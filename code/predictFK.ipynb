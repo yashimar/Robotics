{
 "cells": [
  {
   "cell_type": "code",
   "execution_count": 1,
   "metadata": {
    "ExecuteTime": {
     "end_time": "2020-05-05T04:09:52.456692Z",
     "start_time": "2020-05-05T04:09:51.322353Z"
    }
   },
   "outputs": [
    {
     "name": "stdout",
     "output_type": "stream",
     "text": [
      "device :  cuda\n",
      "num gpu :  4\n"
     ]
    }
   ],
   "source": [
    "import os\n",
    "import random\n",
    "import math\n",
    "import time\n",
    "import matplotlib.pyplot as plt\n",
    "import pandas as pd\n",
    "import numpy as np\n",
    "from scipy import special\n",
    "from scipy.interpolate import griddata\n",
    "from mpl_toolkits.mplot3d import Axes3D\n",
    "import matplotlib.pyplot as plt\n",
    "import plotly\n",
    "import plotly.graph_objs as go\n",
    "\n",
    "\n",
    "import torch \n",
    "import torch.utils.data as data\n",
    "from torch.utils.data import DataLoader\n",
    "import torch.nn as nn\n",
    "import torch.nn.functional as F\n",
    "import torch.optim as optim\n",
    "from torch.autograd import grad\n",
    "\n",
    "from torchvision import transforms\n",
    "from torchsummary import summary\n",
    "from visdom import Visdom\n",
    "\n",
    "import sys\n",
    "sys.path.append(\"../../modules/\")\n",
    "import helper as hp"
   ]
  },
  {
   "cell_type": "code",
   "execution_count": 2,
   "metadata": {
    "ExecuteTime": {
     "end_time": "2020-05-05T04:09:52.465036Z",
     "start_time": "2020-05-05T04:09:52.459256Z"
    }
   },
   "outputs": [
    {
     "name": "stdout",
     "output_type": "stream",
     "text": [
      "device :  cuda\n",
      "num gpu :  4\n"
     ]
    }
   ],
   "source": [
    "import os\n",
    "os.environ[\"CUDA_VISIBLE_DEVICES\"]=\"0,1,2,3\"\n",
    "device = 'cuda' if torch.cuda.is_available() else 'cpu'\n",
    "# device = torch.device('cuda') \n",
    "print('device : ', device)\n",
    "print('num gpu : ', torch.cuda.device_count())"
   ]
  },
  {
   "cell_type": "code",
   "execution_count": 3,
   "metadata": {
    "ExecuteTime": {
     "end_time": "2020-05-05T04:09:57.891075Z",
     "start_time": "2020-05-05T04:09:52.840761Z"
    }
   },
   "outputs": [],
   "source": [
    "df = pd.read_csv(\"../data/trajectory.csv\", low_memory=False).iloc[:100,:]"
   ]
  },
  {
   "cell_type": "code",
   "execution_count": 69,
   "metadata": {
    "ExecuteTime": {
     "end_time": "2020-05-05T04:31:23.984296Z",
     "start_time": "2020-05-05T04:31:23.979414Z"
    }
   },
   "outputs": [],
   "source": [
    "df_x = df.iloc[:, :5].astype(float)/360\n",
    "df_traj = df.iloc[:, 5:8].astype(float)\n",
    "df_col = np.heaviside(df.iloc[:, 8:].astype(int).sum(axis=1), 0).astype(int)"
   ]
  },
  {
   "cell_type": "code",
   "execution_count": 64,
   "metadata": {
    "ExecuteTime": {
     "end_time": "2020-05-05T04:30:47.222741Z",
     "start_time": "2020-05-05T04:30:47.217248Z"
    }
   },
   "outputs": [],
   "source": [
    "class FKDataset(data.Dataset):\n",
    "    \n",
    "    def __init__(self, df_x, df_y, traj=False, col=False):\n",
    "        self.x = torch.tensor(df_x.to_numpy()).type(torch.float)\n",
    "        if traj: self.y = torch.tensor(df_y.to_numpy()).type(torch.float)\n",
    "        if col: self.y = df_y\n",
    "        \n",
    "    def __len__(self):\n",
    "        return len(self.x)\n",
    "    \n",
    "    def __getitem__(self, index):\n",
    "        x = self.x[index]\n",
    "        y = self.y[index]\n",
    "        \n",
    "        return x, y"
   ]
  },
  {
   "cell_type": "code",
   "execution_count": 12,
   "metadata": {
    "ExecuteTime": {
     "end_time": "2020-05-05T04:13:49.438977Z",
     "start_time": "2020-05-05T04:13:49.431333Z"
    }
   },
   "outputs": [],
   "source": [
    "model_fk = hp.BasicRegressor()\n",
    "model_fk.layer1 = nn.Linear(5, 200)\n",
    "model_fk.last = nn.Linear(200, 3)"
   ]
  },
  {
   "cell_type": "code",
   "execution_count": 13,
   "metadata": {
    "ExecuteTime": {
     "end_time": "2020-05-05T04:13:55.402845Z",
     "start_time": "2020-05-05T04:13:55.310000Z"
    },
    "scrolled": true
   },
   "outputs": [
    {
     "name": "stdout",
     "output_type": "stream",
     "text": [
      "-------------\n",
      "Epoch 1/1\n",
      "Loss:17.0634 \n",
      "timer:  0.0736 sec.\n"
     ]
    }
   ],
   "source": [
    "dataset = FKDataset(df_x, df_traj, traj=True)\n",
    "dataloader = DataLoader(dataset, batch_size=32, shuffle=True)\n",
    "\n",
    "model_fk = hp.train(\n",
    "    model_fk, dataloader,\n",
    "    num_epochs=1, save_path=None)"
   ]
  },
  {
   "cell_type": "code",
   "execution_count": 70,
   "metadata": {
    "ExecuteTime": {
     "end_time": "2020-05-05T04:31:27.102287Z",
     "start_time": "2020-05-05T04:31:27.095909Z"
    }
   },
   "outputs": [],
   "source": [
    "model_col = hp.BasicRegressor()\n",
    "model_col.layer1 = nn.Linear(5, 200)\n",
    "model_col.last = nn.Linear(200, 2)"
   ]
  },
  {
   "cell_type": "code",
   "execution_count": 71,
   "metadata": {
    "ExecuteTime": {
     "end_time": "2020-05-05T04:31:27.570524Z",
     "start_time": "2020-05-05T04:31:27.529297Z"
    }
   },
   "outputs": [
    {
     "name": "stdout",
     "output_type": "stream",
     "text": [
      "-------------\n",
      "Epoch 1/1\n",
      "Loss:0.5520 \n",
      "timer:  0.0365 sec.\n"
     ]
    }
   ],
   "source": [
    "dataset = FKDataset(df_x, df_col, col=True)\n",
    "dataloader = DataLoader(dataset, batch_size=32, shuffle=True)\n",
    "\n",
    "model_col = hp.train(\n",
    "    model_col, dataloader,\n",
    "    criterion=nn.CrossEntropyLoss(), \n",
    "    num_epochs=1, save_path=None)"
   ]
  }
 ],
 "metadata": {
  "kernelspec": {
   "display_name": "Python 3",
   "language": "python",
   "name": "python3"
  },
  "language_info": {
   "codemirror_mode": {
    "name": "ipython",
    "version": 3
   },
   "file_extension": ".py",
   "mimetype": "text/x-python",
   "name": "python",
   "nbconvert_exporter": "python",
   "pygments_lexer": "ipython3",
   "version": "3.7.3"
  },
  "toc": {
   "base_numbering": 1,
   "nav_menu": {},
   "number_sections": true,
   "sideBar": true,
   "skip_h1_title": false,
   "title_cell": "Table of Contents",
   "title_sidebar": "Contents",
   "toc_cell": false,
   "toc_position": {},
   "toc_section_display": true,
   "toc_window_display": false
  }
 },
 "nbformat": 4,
 "nbformat_minor": 4
}
