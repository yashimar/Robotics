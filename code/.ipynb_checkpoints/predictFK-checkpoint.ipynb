{
 "cells": [
  {
   "cell_type": "code",
   "execution_count": 108,
   "metadata": {
    "ExecuteTime": {
     "end_time": "2020-05-04T16:30:38.416172Z",
     "start_time": "2020-05-04T16:30:38.405294Z"
    }
   },
   "outputs": [],
   "source": [
    "import os\n",
    "import random\n",
    "import math\n",
    "import time\n",
    "import matplotlib.pyplot as plt\n",
    "import pandas as pd\n",
    "import numpy as np\n",
    "from scipy import special\n",
    "from scipy.interpolate import griddata\n",
    "from mpl_toolkits.mplot3d import Axes3D\n",
    "import matplotlib.pyplot as plt\n",
    "import plotly\n",
    "import plotly.graph_objs as go\n",
    "\n",
    "\n",
    "import torch \n",
    "import torch.utils.data as data\n",
    "from torch.utils.data import DataLoader\n",
    "import torch.nn as nn\n",
    "import torch.nn.functional as F\n",
    "import torch.optim as optim\n",
    "from torch.autograd import grad\n",
    "\n",
    "from torchvision import transforms\n",
    "from torchsummary import summary\n",
    "from visdom import Visdom\n",
    "\n",
    "import sys\n",
    "sys.path.append(\"../../modules/\")\n",
    "import helper as hp"
   ]
  },
  {
   "cell_type": "code",
   "execution_count": 121,
   "metadata": {
    "ExecuteTime": {
     "end_time": "2020-05-04T16:38:55.523158Z",
     "start_time": "2020-05-04T16:38:49.066032Z"
    }
   },
   "outputs": [],
   "source": [
    "df = pd.read_csv(\"../data/trajectory.csv\", low_memory=False).iloc[:100,:]"
   ]
  },
  {
   "cell_type": "code",
   "execution_count": 144,
   "metadata": {
    "ExecuteTime": {
     "end_time": "2020-05-05T03:50:08.679078Z",
     "start_time": "2020-05-05T03:50:08.669841Z"
    }
   },
   "outputs": [],
   "source": [
    "df_x = df.iloc[:, :5].astype(float)/360\n",
    "df_traj = df.iloc[:, 5:8].astype(float)\n",
    "# df_col = df.iloc[:, 8:]\n",
    "df_col = df.iloc[:,-1].astype(int)"
   ]
  },
  {
   "cell_type": "code",
   "execution_count": 103,
   "metadata": {
    "ExecuteTime": {
     "end_time": "2020-05-04T16:29:11.024841Z",
     "start_time": "2020-05-04T16:29:11.011634Z"
    }
   },
   "outputs": [],
   "source": [
    "class TrajDataset(data.Dataset):\n",
    "    \n",
    "    def __init__(self, df_x, df_y):\n",
    "        self.x = torch.tensor(df_x.to_numpy()).type(torch.float)\n",
    "        self.y = torch.tensor(df_y.to_numpy()).type(torch.float)\n",
    "        \n",
    "    def __len__(self):\n",
    "        return len(self.x)\n",
    "    \n",
    "    def __getitem__(self, index):\n",
    "        x = self.x[index]\n",
    "        y = self.y[index]\n",
    "        \n",
    "        return x, y"
   ]
  },
  {
   "cell_type": "code",
   "execution_count": 124,
   "metadata": {
    "ExecuteTime": {
     "end_time": "2020-05-04T16:39:12.517418Z",
     "start_time": "2020-05-04T16:39:12.509903Z"
    }
   },
   "outputs": [],
   "source": [
    "model = hp.BasicRegressor()\n",
    "model.layer1 = nn.Linear(5, 200)\n",
    "model.last = nn.Linear(200, 3)"
   ]
  },
  {
   "cell_type": "code",
   "execution_count": 125,
   "metadata": {
    "ExecuteTime": {
     "end_time": "2020-05-04T16:39:19.576490Z",
     "start_time": "2020-05-04T16:39:19.471932Z"
    },
    "scrolled": true
   },
   "outputs": [
    {
     "name": "stdout",
     "output_type": "stream",
     "text": [
      "-------------\n",
      "Epoch 1/1\n",
      "Loss:16.4837 \n",
      "timer:  0.0841 sec.\n"
     ]
    }
   ],
   "source": [
    "dataset = TrajDataset(df_x, df_traj)\n",
    "dataloader = DataLoader(dataset, batch_size=32, shuffle=True)\n",
    "\n",
    "model_fk = hp.train(\n",
    "    model, dataloader,\n",
    "    num_epochs=1, save_path=None)"
   ]
  },
  {
   "cell_type": "code",
   "execution_count": 130,
   "metadata": {
    "ExecuteTime": {
     "end_time": "2020-05-05T03:46:41.958555Z",
     "start_time": "2020-05-05T03:46:41.947740Z"
    }
   },
   "outputs": [],
   "source": [
    "class BasicClassifer(nn.Module):\n",
    "    \n",
    "    def __init__(self):\n",
    "        super(BasicClassifer, self).__init__()\n",
    "        self.layer1 = nn.Linear(5, 200)\n",
    "        self.layer2 = nn.Linear(200, 200)\n",
    "        self.last = nn.Linear(200, 1)\n",
    "        self.dropout = nn.Dropout(p=0.01)\n",
    "        \n",
    "    def forward(self, x):\n",
    "        out = self.layer1(x)\n",
    "        out = F.relu(out)\n",
    "        out = self.dropout(out)\n",
    "        out = self.layer2(out)\n",
    "        out = F.relu(out)\n",
    "        out = self.dropout(out)\n",
    "        out = self.last(out)\n",
    "        \n",
    "        return out"
   ]
  },
  {
   "cell_type": "code",
   "execution_count": 133,
   "metadata": {
    "ExecuteTime": {
     "end_time": "2020-05-05T03:46:56.260022Z",
     "start_time": "2020-05-05T03:46:56.256273Z"
    }
   },
   "outputs": [],
   "source": [
    "model_col = BasicClassifer()"
   ]
  },
  {
   "cell_type": "code",
   "execution_count": 128,
   "metadata": {
    "ExecuteTime": {
     "end_time": "2020-05-05T03:45:39.751046Z",
     "start_time": "2020-05-05T03:45:39.742133Z"
    }
   },
   "outputs": [],
   "source": [
    "def train_class(model, dataloader, num_epochs, lr=2e-3, schedule_param=None, save_path=None):   \n",
    "    if (save_path!=None and os.path.exists(f'{save_path}')): os.remove(f'{save_path}')  \n",
    "    \n",
    "    model = nn.DataParallel(model)\n",
    "    model.to(device)\n",
    "    model.train()\n",
    "    \n",
    "    optimizer = torch.optim.Adam(model.parameters(), lr=lr)\n",
    "    if schedule_param!=None: scheduler = torch.optim.lr_scheduler.ReduceLROnPlateau(optimizer, **schedule_param)\n",
    "    criterion = nn.CrossEntropyLoss()\n",
    "    \n",
    "    for epoch in range(num_epochs):      \n",
    "        t_epoch_start = time.time()\n",
    "        epoch_loss = 0.0\n",
    "        \n",
    "        for data in dataloader:       \n",
    "            batch_size = len(data[0])\n",
    "            x = data[0].to(device)\n",
    "            y = data[1].to(device)\n",
    "            out = model(x)\n",
    "            \n",
    "            loss = criterion(out, y)\n",
    "            optimizer.zero_grad()\n",
    "            loss.backward()\n",
    "            optimizer.step()\n",
    "            \n",
    "            epoch_loss += loss.item()\n",
    "            \n",
    "        t_epoch_finish = time.time()\n",
    "        if save_path!=None:\n",
    "            with open(f'{save_path}', 'a') as f:\n",
    "                print('-------------', file=f)\n",
    "                print('Epoch {}/{}'.format(epoch+1, num_epochs),file=f)\n",
    "                print('Loss:{:.4f} '.format(epoch_loss/batch_size), file=f)\n",
    "                print('timer:  {:.4f} sec.'.format(t_epoch_finish - t_epoch_start), file=f)\n",
    "        else:\n",
    "            print('-------------')\n",
    "            print('Epoch {}/{}'.format(epoch+1, num_epochs))\n",
    "            print('Loss:{:.4f} '.format(epoch_loss/batch_size))\n",
    "            print('timer:  {:.4f} sec.'.format(t_epoch_finish - t_epoch_start))\n",
    "        \n",
    "        if schedule_param!=None: scheduler.step(epoch_loss/batch_size)\n",
    "        \n",
    "    model.eval()        \n",
    "    return model"
   ]
  },
  {
   "cell_type": "code",
   "execution_count": 145,
   "metadata": {
    "ExecuteTime": {
     "end_time": "2020-05-05T03:50:15.776625Z",
     "start_time": "2020-05-05T03:50:15.751261Z"
    }
   },
   "outputs": [
    {
     "ename": "NameError",
     "evalue": "name 'device' is not defined",
     "output_type": "error",
     "traceback": [
      "\u001b[0;31m---------------------------------------------------------------------------\u001b[0m",
      "\u001b[0;31mNameError\u001b[0m                                 Traceback (most recent call last)",
      "\u001b[0;32m<ipython-input-145-5ce7f6ee98c9>\u001b[0m in \u001b[0;36m<module>\u001b[0;34m\u001b[0m\n\u001b[1;32m      4\u001b[0m model_fk = train_class(\n\u001b[1;32m      5\u001b[0m     \u001b[0mmodel_col\u001b[0m\u001b[0;34m,\u001b[0m \u001b[0mdataloader\u001b[0m\u001b[0;34m,\u001b[0m\u001b[0;34m\u001b[0m\u001b[0;34m\u001b[0m\u001b[0m\n\u001b[0;32m----> 6\u001b[0;31m     num_epochs=1, save_path=None)\n\u001b[0m",
      "\u001b[0;32m<ipython-input-128-194479a72d22>\u001b[0m in \u001b[0;36mtrain_class\u001b[0;34m(model, dataloader, num_epochs, lr, schedule_param, save_path)\u001b[0m\n\u001b[1;32m      3\u001b[0m \u001b[0;34m\u001b[0m\u001b[0m\n\u001b[1;32m      4\u001b[0m     \u001b[0mmodel\u001b[0m \u001b[0;34m=\u001b[0m \u001b[0mnn\u001b[0m\u001b[0;34m.\u001b[0m\u001b[0mDataParallel\u001b[0m\u001b[0;34m(\u001b[0m\u001b[0mmodel\u001b[0m\u001b[0;34m)\u001b[0m\u001b[0;34m\u001b[0m\u001b[0;34m\u001b[0m\u001b[0m\n\u001b[0;32m----> 5\u001b[0;31m     \u001b[0mmodel\u001b[0m\u001b[0;34m.\u001b[0m\u001b[0mto\u001b[0m\u001b[0;34m(\u001b[0m\u001b[0mdevice\u001b[0m\u001b[0;34m)\u001b[0m\u001b[0;34m\u001b[0m\u001b[0;34m\u001b[0m\u001b[0m\n\u001b[0m\u001b[1;32m      6\u001b[0m     \u001b[0mmodel\u001b[0m\u001b[0;34m.\u001b[0m\u001b[0mtrain\u001b[0m\u001b[0;34m(\u001b[0m\u001b[0;34m)\u001b[0m\u001b[0;34m\u001b[0m\u001b[0;34m\u001b[0m\u001b[0m\n\u001b[1;32m      7\u001b[0m \u001b[0;34m\u001b[0m\u001b[0m\n",
      "\u001b[0;31mNameError\u001b[0m: name 'device' is not defined"
     ]
    }
   ],
   "source": [
    "dataset = TrajDataset(df_x, df_col)\n",
    "dataloader = DataLoader(dataset, batch_size=32, shuffle=True)\n",
    "\n",
    "model_fk = train_class(\n",
    "    model_col, dataloader,\n",
    "    num_epochs=1, save_path=None)"
   ]
  }
 ],
 "metadata": {
  "kernelspec": {
   "display_name": "Python 3",
   "language": "python",
   "name": "python3"
  },
  "language_info": {
   "codemirror_mode": {
    "name": "ipython",
    "version": 3
   },
   "file_extension": ".py",
   "mimetype": "text/x-python",
   "name": "python",
   "nbconvert_exporter": "python",
   "pygments_lexer": "ipython3",
   "version": "3.7.3"
  },
  "toc": {
   "base_numbering": 1,
   "nav_menu": {},
   "number_sections": true,
   "sideBar": true,
   "skip_h1_title": false,
   "title_cell": "Table of Contents",
   "title_sidebar": "Contents",
   "toc_cell": false,
   "toc_position": {},
   "toc_section_display": true,
   "toc_window_display": false
  }
 },
 "nbformat": 4,
 "nbformat_minor": 4
}
