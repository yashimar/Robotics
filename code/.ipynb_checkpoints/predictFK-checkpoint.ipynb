{
 "cells": [
  {
   "cell_type": "code",
   "execution_count": 1,
   "metadata": {
    "ExecuteTime": {
     "end_time": "2020-05-06T07:14:18.325186Z",
     "start_time": "2020-05-06T07:14:17.189509Z"
    }
   },
   "outputs": [
    {
     "name": "stdout",
     "output_type": "stream",
     "text": [
      "device :  cuda\n",
      "num gpu :  4\n"
     ]
    }
   ],
   "source": [
    "import os\n",
    "import random\n",
    "import math\n",
    "import time\n",
    "import matplotlib.pyplot as plt\n",
    "import pandas as pd\n",
    "pd.set_option('display.max_columns', 50)\n",
    "import numpy as np\n",
    "from scipy import special\n",
    "from scipy.interpolate import griddata\n",
    "from mpl_toolkits.mplot3d import Axes3D\n",
    "import matplotlib.pyplot as plt\n",
    "import plotly\n",
    "import plotly.graph_objs as go\n",
    "\n",
    "\n",
    "import torch \n",
    "import torch.utils.data as data\n",
    "from torch.utils.data import DataLoader\n",
    "import torch.nn as nn\n",
    "import torch.nn.functional as F\n",
    "import torch.optim as optim\n",
    "from torch.autograd import grad\n",
    "\n",
    "from torchvision import transforms\n",
    "from torchsummary import summary\n",
    "from visdom import Visdom\n",
    "\n",
    "import sys\n",
    "sys.path.append(\"../../modules/\")\n",
    "import helper as hp"
   ]
  },
  {
   "cell_type": "code",
   "execution_count": 2,
   "metadata": {
    "ExecuteTime": {
     "end_time": "2020-05-06T07:14:18.336324Z",
     "start_time": "2020-05-06T07:14:18.328137Z"
    }
   },
   "outputs": [
    {
     "name": "stdout",
     "output_type": "stream",
     "text": [
      "device :  cuda\n",
      "num gpu :  4\n"
     ]
    }
   ],
   "source": [
    "import os\n",
    "os.environ[\"CUDA_VISIBLE_DEVICES\"]=\"0,1,2,3\"\n",
    "device = 'cuda' if torch.cuda.is_available() else 'cpu'\n",
    "# device = torch.device('cuda') \n",
    "print('device : ', device)\n",
    "print('num gpu : ', torch.cuda.device_count())"
   ]
  },
  {
   "cell_type": "code",
   "execution_count": 3,
   "metadata": {
    "ExecuteTime": {
     "end_time": "2020-05-06T07:14:23.749287Z",
     "start_time": "2020-05-06T07:14:20.571171Z"
    }
   },
   "outputs": [],
   "source": [
    "names = (\"theta1\",\"theta2\",\"theta3\",\"theta4\",\"theta5\",\"X\",\"Y\",\"Z\",\"id\")\n",
    "df_main = pd.read_csv(\"../data/trajectory.csv\", names=names)\n",
    "df_base = pd.read_csv(\"../data/Base.csv\", names=(\"collision_base\",\"id\")).set_index(\"id\")\n",
    "df_link1 = pd.read_csv(\"../data/Link1.csv\", names=(\"collision_link1\",\"id\")).set_index(\"id\")\n",
    "df_link2 = pd.read_csv(\"../data/Link2.csv\", names=(\"collision_link2\",\"id\")).set_index(\"id\")\n",
    "df_link3 = pd.read_csv(\"../data/Link3.csv\", names=(\"collision_link3\",\"id\")).set_index(\"id\")\n",
    "df_head = pd.read_csv(\"../data/Head.csv\", names=(\"collision_head\",\"id\")).set_index(\"id\")\n",
    "\n",
    "df_main = pd.concat([df_main, df_base, df_link1, df_link2, df_link3, df_head], axis=1).drop(\"id\",axis=1).fillna(0)\n",
    "df_main.iloc[:,8:] = df_main.iloc[:,8:].astype(int)\n",
    "\n",
    "df_x = df_main.iloc[:, :5].astype(float)/360\n",
    "df_traj = df_main.iloc[:, 5:8].astype(float)\n",
    "df_col = np.heaviside(df_main.iloc[:, 8:].sum(axis=1), 0).astype(int)\n",
    "\n",
    "del df_base, df_link1, df_link2, df_link3, df_head, df_main"
   ]
  },
  {
   "cell_type": "code",
   "execution_count": 6,
   "metadata": {
    "ExecuteTime": {
     "end_time": "2020-05-06T07:14:50.619605Z",
     "start_time": "2020-05-06T07:14:50.613474Z"
    }
   },
   "outputs": [
    {
     "data": {
      "text/plain": [
       "((999961, 5), (999961, 3), (999961,))"
      ]
     },
     "execution_count": 6,
     "metadata": {},
     "output_type": "execute_result"
    }
   ],
   "source": [
    "df_x.shape, df_traj.shape, df_col.shape"
   ]
  },
  {
   "cell_type": "code",
   "execution_count": 9,
   "metadata": {
    "ExecuteTime": {
     "end_time": "2020-05-06T07:15:18.833037Z",
     "start_time": "2020-05-06T07:15:18.823137Z"
    }
   },
   "outputs": [],
   "source": [
    "class FKDataset(data.Dataset):\n",
    "    \n",
    "    def __init__(self, df_x, df_y, traj=False, col=False):\n",
    "        self.x = torch.tensor(df_x.to_numpy()).type(torch.float)\n",
    "        if traj: self.y = torch.tensor(df_y.to_numpy()).type(torch.float)\n",
    "        if col: self.y = df_y\n",
    "        \n",
    "    def __len__(self):\n",
    "        return len(self.x)\n",
    "    \n",
    "    def __getitem__(self, index):\n",
    "        x = self.x[index]\n",
    "        y = self.y[index]\n",
    "        \n",
    "        return x, y"
   ]
  },
  {
   "cell_type": "code",
   "execution_count": 10,
   "metadata": {
    "ExecuteTime": {
     "end_time": "2020-05-06T07:15:19.344021Z",
     "start_time": "2020-05-06T07:15:19.340832Z"
    }
   },
   "outputs": [],
   "source": [
    "model_fk = hp.BasicRegressor()\n",
    "model_fk.layer1 = nn.Linear(5, 200)\n",
    "model_fk.last = nn.Linear(200, 3)"
   ]
  },
  {
   "cell_type": "code",
   "execution_count": 12,
   "metadata": {
    "ExecuteTime": {
     "end_time": "2020-05-06T07:16:26.605266Z",
     "start_time": "2020-05-06T07:16:09.203105Z"
    },
    "scrolled": true
   },
   "outputs": [
    {
     "name": "stdout",
     "output_type": "stream",
     "text": [
      "-------------\n",
      "Epoch 1/1\n",
      "Loss:0.3156 \n",
      "timer:  17.3083 sec.\n"
     ]
    }
   ],
   "source": [
    "dataset = FKDataset(df_x, df_traj, traj=True)\n",
    "dataloader = DataLoader(dataset, batch_size=1024, shuffle=True)\n",
    "\n",
    "model_fk = hp.train(\n",
    "    model_fk, dataloader,\n",
    "    num_epochs=1, save_path=None)"
   ]
  },
  {
   "cell_type": "code",
   "execution_count": 70,
   "metadata": {
    "ExecuteTime": {
     "end_time": "2020-05-05T04:31:27.102287Z",
     "start_time": "2020-05-05T04:31:27.095909Z"
    }
   },
   "outputs": [],
   "source": [
    "model_col = hp.BasicRegressor()\n",
    "model_col.layer1 = nn.Linear(5, 200)\n",
    "model_col.last = nn.Linear(200, 2)"
   ]
  },
  {
   "cell_type": "code",
   "execution_count": 71,
   "metadata": {
    "ExecuteTime": {
     "end_time": "2020-05-05T04:31:27.570524Z",
     "start_time": "2020-05-05T04:31:27.529297Z"
    }
   },
   "outputs": [
    {
     "name": "stdout",
     "output_type": "stream",
     "text": [
      "-------------\n",
      "Epoch 1/1\n",
      "Loss:0.5520 \n",
      "timer:  0.0365 sec.\n"
     ]
    }
   ],
   "source": [
    "dataset = FKDataset(df_x, df_col, col=True)\n",
    "dataloader = DataLoader(dataset, batch_size=32, shuffle=True)\n",
    "\n",
    "model_col = hp.train(\n",
    "    model_col, dataloader,\n",
    "    criterion=nn.CrossEntropyLoss(), \n",
    "    num_epochs=1, save_path=None)"
   ]
  }
 ],
 "metadata": {
  "kernelspec": {
   "display_name": "Python 3",
   "language": "python",
   "name": "python3"
  },
  "language_info": {
   "codemirror_mode": {
    "name": "ipython",
    "version": 3
   },
   "file_extension": ".py",
   "mimetype": "text/x-python",
   "name": "python",
   "nbconvert_exporter": "python",
   "pygments_lexer": "ipython3",
   "version": "3.7.3"
  },
  "toc": {
   "base_numbering": 1,
   "nav_menu": {},
   "number_sections": true,
   "sideBar": true,
   "skip_h1_title": false,
   "title_cell": "Table of Contents",
   "title_sidebar": "Contents",
   "toc_cell": false,
   "toc_position": {},
   "toc_section_display": true,
   "toc_window_display": false
  }
 },
 "nbformat": 4,
 "nbformat_minor": 4
}
